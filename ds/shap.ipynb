{
 "cells": [
  {
   "cell_type": "code",
   "execution_count": 24,
   "metadata": {
    "ExecuteTime": {
     "end_time": "2023-08-20T16:26:09.930045Z",
     "start_time": "2023-08-20T16:26:09.927043Z"
    }
   },
   "outputs": [],
   "source": [
    "import shap\n",
    "import pickle\n",
    "import matplotlib.pyplot as plt\n",
    "from itertools import product\n",
    "from more_itertools import gray_product\n",
    "import numpy as np\n",
    "import pandas as pd"
   ]
  },
  {
   "cell_type": "code",
   "execution_count": 4,
   "metadata": {
    "ExecuteTime": {
     "end_time": "2023-08-20T16:09:13.756370Z",
     "start_time": "2023-08-20T16:09:13.713447Z"
    },
    "collapsed": false,
    "jupyter": {
     "outputs_hidden": false
    }
   },
   "outputs": [],
   "source": [
    "with open(\"./data/obj_v2\", \"rb\") as obj_file:\n",
    "    obj = pickle.load(obj_file)"
   ]
  },
  {
   "cell_type": "code",
   "execution_count": 5,
   "metadata": {},
   "outputs": [],
   "source": [
    "model_xgb = obj[0]\n",
    "data = obj[1]"
   ]
  },
  {
   "cell_type": "code",
   "execution_count": 6,
   "metadata": {},
   "outputs": [
    {
     "data": {
      "text/html": [
       "<div>\n",
       "<style scoped>\n",
       "    .dataframe tbody tr th:only-of-type {\n",
       "        vertical-align: middle;\n",
       "    }\n",
       "\n",
       "    .dataframe tbody tr th {\n",
       "        vertical-align: top;\n",
       "    }\n",
       "\n",
       "    .dataframe thead th {\n",
       "        text-align: right;\n",
       "    }\n",
       "</style>\n",
       "<table border=\"1\" class=\"dataframe\">\n",
       "  <thead>\n",
       "    <tr style=\"text-align: right;\">\n",
       "      <th></th>\n",
       "      <th>Pclass</th>\n",
       "      <th>Sex</th>\n",
       "      <th>Age</th>\n",
       "      <th>SibSp</th>\n",
       "      <th>Parch</th>\n",
       "      <th>Fare</th>\n",
       "      <th>Cabin</th>\n",
       "      <th>Embarked</th>\n",
       "      <th>Survived</th>\n",
       "    </tr>\n",
       "  </thead>\n",
       "  <tbody>\n",
       "    <tr>\n",
       "      <th>0</th>\n",
       "      <td>3</td>\n",
       "      <td>1</td>\n",
       "      <td>22.0</td>\n",
       "      <td>1</td>\n",
       "      <td>0</td>\n",
       "      <td>7.2500</td>\n",
       "      <td>7</td>\n",
       "      <td>2</td>\n",
       "      <td>0</td>\n",
       "    </tr>\n",
       "    <tr>\n",
       "      <th>1</th>\n",
       "      <td>1</td>\n",
       "      <td>0</td>\n",
       "      <td>38.0</td>\n",
       "      <td>1</td>\n",
       "      <td>0</td>\n",
       "      <td>71.2833</td>\n",
       "      <td>2</td>\n",
       "      <td>0</td>\n",
       "      <td>1</td>\n",
       "    </tr>\n",
       "    <tr>\n",
       "      <th>2</th>\n",
       "      <td>3</td>\n",
       "      <td>0</td>\n",
       "      <td>26.0</td>\n",
       "      <td>0</td>\n",
       "      <td>0</td>\n",
       "      <td>7.9250</td>\n",
       "      <td>7</td>\n",
       "      <td>2</td>\n",
       "      <td>1</td>\n",
       "    </tr>\n",
       "    <tr>\n",
       "      <th>3</th>\n",
       "      <td>1</td>\n",
       "      <td>0</td>\n",
       "      <td>35.0</td>\n",
       "      <td>1</td>\n",
       "      <td>0</td>\n",
       "      <td>53.1000</td>\n",
       "      <td>2</td>\n",
       "      <td>2</td>\n",
       "      <td>1</td>\n",
       "    </tr>\n",
       "    <tr>\n",
       "      <th>4</th>\n",
       "      <td>3</td>\n",
       "      <td>1</td>\n",
       "      <td>35.0</td>\n",
       "      <td>0</td>\n",
       "      <td>0</td>\n",
       "      <td>8.0500</td>\n",
       "      <td>7</td>\n",
       "      <td>2</td>\n",
       "      <td>0</td>\n",
       "    </tr>\n",
       "    <tr>\n",
       "      <th>...</th>\n",
       "      <td>...</td>\n",
       "      <td>...</td>\n",
       "      <td>...</td>\n",
       "      <td>...</td>\n",
       "      <td>...</td>\n",
       "      <td>...</td>\n",
       "      <td>...</td>\n",
       "      <td>...</td>\n",
       "      <td>...</td>\n",
       "    </tr>\n",
       "    <tr>\n",
       "      <th>707</th>\n",
       "      <td>3</td>\n",
       "      <td>0</td>\n",
       "      <td>39.0</td>\n",
       "      <td>0</td>\n",
       "      <td>5</td>\n",
       "      <td>29.1250</td>\n",
       "      <td>7</td>\n",
       "      <td>1</td>\n",
       "      <td>0</td>\n",
       "    </tr>\n",
       "    <tr>\n",
       "      <th>708</th>\n",
       "      <td>2</td>\n",
       "      <td>1</td>\n",
       "      <td>27.0</td>\n",
       "      <td>0</td>\n",
       "      <td>0</td>\n",
       "      <td>13.0000</td>\n",
       "      <td>7</td>\n",
       "      <td>2</td>\n",
       "      <td>0</td>\n",
       "    </tr>\n",
       "    <tr>\n",
       "      <th>709</th>\n",
       "      <td>1</td>\n",
       "      <td>0</td>\n",
       "      <td>19.0</td>\n",
       "      <td>0</td>\n",
       "      <td>0</td>\n",
       "      <td>30.0000</td>\n",
       "      <td>1</td>\n",
       "      <td>2</td>\n",
       "      <td>1</td>\n",
       "    </tr>\n",
       "    <tr>\n",
       "      <th>710</th>\n",
       "      <td>1</td>\n",
       "      <td>1</td>\n",
       "      <td>26.0</td>\n",
       "      <td>0</td>\n",
       "      <td>0</td>\n",
       "      <td>30.0000</td>\n",
       "      <td>2</td>\n",
       "      <td>0</td>\n",
       "      <td>1</td>\n",
       "    </tr>\n",
       "    <tr>\n",
       "      <th>711</th>\n",
       "      <td>3</td>\n",
       "      <td>1</td>\n",
       "      <td>32.0</td>\n",
       "      <td>0</td>\n",
       "      <td>0</td>\n",
       "      <td>7.7500</td>\n",
       "      <td>7</td>\n",
       "      <td>1</td>\n",
       "      <td>0</td>\n",
       "    </tr>\n",
       "  </tbody>\n",
       "</table>\n",
       "<p>712 rows × 9 columns</p>\n",
       "</div>"
      ],
      "text/plain": [
       "     Pclass  Sex   Age  SibSp  Parch     Fare  Cabin  Embarked  Survived\n",
       "0         3    1  22.0      1      0   7.2500      7         2         0\n",
       "1         1    0  38.0      1      0  71.2833      2         0         1\n",
       "2         3    0  26.0      0      0   7.9250      7         2         1\n",
       "3         1    0  35.0      1      0  53.1000      2         2         1\n",
       "4         3    1  35.0      0      0   8.0500      7         2         0\n",
       "..      ...  ...   ...    ...    ...      ...    ...       ...       ...\n",
       "707       3    0  39.0      0      5  29.1250      7         1         0\n",
       "708       2    1  27.0      0      0  13.0000      7         2         0\n",
       "709       1    0  19.0      0      0  30.0000      1         2         1\n",
       "710       1    1  26.0      0      0  30.0000      2         0         1\n",
       "711       3    1  32.0      0      0   7.7500      7         1         0\n",
       "\n",
       "[712 rows x 9 columns]"
      ]
     },
     "execution_count": 6,
     "metadata": {},
     "output_type": "execute_result"
    }
   ],
   "source": [
    "data"
   ]
  },
  {
   "cell_type": "code",
   "execution_count": 35,
   "metadata": {
    "ExecuteTime": {
     "end_time": "2023-08-20T16:25:19.972426Z",
     "start_time": "2023-08-20T16:25:19.965423Z"
    },
    "collapsed": false,
    "jupyter": {
     "outputs_hidden": false
    }
   },
   "outputs": [],
   "source": [
    "colors = [\"brown\", \"teal\", \"blue\", \"coral\", \"limegreen\"]"
   ]
  },
  {
   "cell_type": "code",
   "execution_count": 8,
   "metadata": {
    "ExecuteTime": {
     "end_time": "2023-08-20T16:25:00.634334Z",
     "start_time": "2023-08-20T16:25:00.627331Z"
    },
    "collapsed": false,
    "jupyter": {
     "outputs_hidden": false
    }
   },
   "outputs": [],
   "source": [
    "def create_variable_list(col):\n",
    "    min_val = col.min()\n",
    "    max_val = col.max()\n",
    "\n",
    "    unique = col.unique()\n",
    "\n",
    "    if len(unique) < 50:\n",
    "        col_vals = sorted(list(unique))\n",
    "    else:\n",
    "        delta = (max_val - min_val) / 100\n",
    "        col_vals = []\n",
    "        while min_val <= max_val:\n",
    "            col_vals.append(min_val)\n",
    "            min_val += delta\n",
    "    return col_vals"
   ]
  },
  {
   "cell_type": "code",
   "execution_count": 9,
   "metadata": {
    "ExecuteTime": {
     "end_time": "2023-08-20T16:25:02.759164Z",
     "start_time": "2023-08-20T16:25:02.755660Z"
    },
    "collapsed": false,
    "jupyter": {
     "outputs_hidden": false
    }
   },
   "outputs": [],
   "source": [
    "def top5_find_by_importance(explainer, data):\n",
    "    shap_values = explainer(data).values\n",
    "\n",
    "    col_names = []\n",
    "    indexes = []\n",
    "    mean_importance = list(np.mean(np.absolute(shap_values), axis=0))\n",
    "\n",
    "    max_list = sorted(mean_importance)[-5:]\n",
    "    for max_val in max_list:\n",
    "        indexes.append(mean_importance.index(max_val))\n",
    "        col_names.append(data.columns[mean_importance.index(max_val)])\n",
    "\n",
    "    return col_names, indexes"
   ]
  },
  {
   "cell_type": "code",
   "execution_count": 10,
   "metadata": {
    "ExecuteTime": {
     "end_time": "2023-08-20T16:25:05.209299Z",
     "start_time": "2023-08-20T16:25:05.204113Z"
    },
    "collapsed": false,
    "jupyter": {
     "outputs_hidden": false
    }
   },
   "outputs": [],
   "source": [
    "def top5_centered_importance(explainer, data, col_name):\n",
    "    data_copy = data.copy()\n",
    "\n",
    "    col_vals = create_variable_list(data[col_name])\n",
    "    res_vals = []\n",
    "\n",
    "    for val in col_vals:\n",
    "        new_col = len(data_copy[col_name]) * [val]\n",
    "        data_copy[col_name] = new_col\n",
    "        shap_values = explainer(data_copy).values\n",
    "        res_vals.append(shap_values)\n",
    "\n",
    "    return res_vals, col_vals"
   ]
  },
  {
   "cell_type": "code",
   "execution_count": 17,
   "metadata": {
    "ExecuteTime": {
     "end_time": "2023-08-20T16:25:22.601713Z",
     "start_time": "2023-08-20T16:25:22.600209Z"
    },
    "collapsed": false,
    "jupyter": {
     "outputs_hidden": false
    }
   },
   "outputs": [],
   "source": [
    "def plot_top5_centered_importance(model, data, col_name, absolute=False):\n",
    "    plot = plt.axes()\n",
    "    plot.figure.set_size_inches(16, 8)\n",
    "\n",
    "    if absolute:\n",
    "        title = \"Центрированный график изменения абсолютной важности переменных\"\n",
    "    else:\n",
    "        title = \"Центрированный график изменения важности переменных\"\n",
    "    plot.set_title(title, fontsize=18)\n",
    "\n",
    "    explainer = shap.TreeExplainer(model)\n",
    "\n",
    "    data_copy = data.copy()\n",
    "    if \"Survived\" in data.columns:\n",
    "        data_copy = data_copy.drop(\"Survived\", axis=1)\n",
    "\n",
    "    cols, indexes = top5_find_by_importance(explainer, data_copy)\n",
    "\n",
    "    res_vals, col_vals = top5_centered_importance(explainer, data_copy, col_name)\n",
    "\n",
    "    res_vals = np.array(res_vals)\n",
    "\n",
    "    for i in range(0, len(indexes)):\n",
    "        res = []\n",
    "\n",
    "        for j in range(0, len(res_vals)):\n",
    "            val = res_vals[j, :, indexes[i]]\n",
    "            if absolute:\n",
    "                val = np.absolute(val)\n",
    "            res.append(val.mean())\n",
    "\n",
    "        plot.plot(col_vals, res, color=colors[i], linewidth=4, label=cols[i])\n",
    "\n",
    "    plot.grid()\n",
    "    plot.set_xlabel(col_name, fontsize=16)\n",
    "    plot.set_ylabel(\"Важность переменных\", fontsize=16)\n",
    "    plot.legend()\n",
    "\n",
    "    return plot"
   ]
  },
  {
   "cell_type": "code",
   "execution_count": 18,
   "metadata": {
    "ExecuteTime": {
     "end_time": "2023-08-20T16:26:15.358166Z",
     "start_time": "2023-08-20T16:26:13.995434Z"
    },
    "collapsed": false,
    "jupyter": {
     "outputs_hidden": false
    }
   },
   "outputs": [
    {
     "data": {
      "text/plain": [
       "<Axes: title={'center': 'Центрированный график изменения важности переменных'}, xlabel='Age', ylabel='Важность переменных'>"
      ]
     },
     "execution_count": 18,
     "metadata": {},
     "output_type": "execute_result"
    },
    {
     "data": {
      "image/png": "[encoded data removed]",
      "text/plain": [
       "<Figure size 1600x800 with 1 Axes>"
      ]
     },
     "metadata": {},
     "output_type": "display_data"
    }
   ],
   "source": [
    "plot_top5_centered_importance(model_xgb, data, \"Age\")"
   ]
  },
  {
   "cell_type": "code",
   "execution_count": null,
   "metadata": {},
   "outputs": [],
   "source": []
  },
  {
   "cell_type": "code",
   "execution_count": 7,
   "metadata": {},
   "outputs": [],
   "source": [
    "df = data.copy()"
   ]
  },
  {
   "cell_type": "code",
   "execution_count": 7,
   "metadata": {},
   "outputs": [
    {
     "data": {
      "text/html": [
       "<div>\n",
       "<style scoped>\n",
       "    .dataframe tbody tr th:only-of-type {\n",
       "        vertical-align: middle;\n",
       "    }\n",
       "\n",
       "    .dataframe tbody tr th {\n",
       "        vertical-align: top;\n",
       "    }\n",
       "\n",
       "    .dataframe thead th {\n",
       "        text-align: right;\n",
       "    }\n",
       "</style>\n",
       "<table border=\"1\" class=\"dataframe\">\n",
       "  <thead>\n",
       "    <tr style=\"text-align: right;\">\n",
       "      <th></th>\n",
       "      <th>Pclass</th>\n",
       "      <th>Sex</th>\n",
       "      <th>Age</th>\n",
       "      <th>SibSp</th>\n",
       "      <th>Parch</th>\n",
       "      <th>Fare</th>\n",
       "      <th>Cabin</th>\n",
       "      <th>Embarked</th>\n",
       "      <th>Survived</th>\n",
       "    </tr>\n",
       "  </thead>\n",
       "  <tbody>\n",
       "    <tr>\n",
       "      <th>0</th>\n",
       "      <td>3</td>\n",
       "      <td>1</td>\n",
       "      <td>22.0</td>\n",
       "      <td>1</td>\n",
       "      <td>0</td>\n",
       "      <td>7.2500</td>\n",
       "      <td>7</td>\n",
       "      <td>2</td>\n",
       "      <td>0</td>\n",
       "    </tr>\n",
       "    <tr>\n",
       "      <th>1</th>\n",
       "      <td>1</td>\n",
       "      <td>0</td>\n",
       "      <td>38.0</td>\n",
       "      <td>1</td>\n",
       "      <td>0</td>\n",
       "      <td>71.2833</td>\n",
       "      <td>2</td>\n",
       "      <td>0</td>\n",
       "      <td>1</td>\n",
       "    </tr>\n",
       "    <tr>\n",
       "      <th>2</th>\n",
       "      <td>3</td>\n",
       "      <td>0</td>\n",
       "      <td>26.0</td>\n",
       "      <td>0</td>\n",
       "      <td>0</td>\n",
       "      <td>7.9250</td>\n",
       "      <td>7</td>\n",
       "      <td>2</td>\n",
       "      <td>1</td>\n",
       "    </tr>\n",
       "    <tr>\n",
       "      <th>3</th>\n",
       "      <td>1</td>\n",
       "      <td>0</td>\n",
       "      <td>35.0</td>\n",
       "      <td>1</td>\n",
       "      <td>0</td>\n",
       "      <td>53.1000</td>\n",
       "      <td>2</td>\n",
       "      <td>2</td>\n",
       "      <td>1</td>\n",
       "    </tr>\n",
       "    <tr>\n",
       "      <th>4</th>\n",
       "      <td>3</td>\n",
       "      <td>1</td>\n",
       "      <td>35.0</td>\n",
       "      <td>0</td>\n",
       "      <td>0</td>\n",
       "      <td>8.0500</td>\n",
       "      <td>7</td>\n",
       "      <td>2</td>\n",
       "      <td>0</td>\n",
       "    </tr>\n",
       "  </tbody>\n",
       "</table>\n",
       "</div>"
      ],
      "text/plain": [
       "   Pclass  Sex   Age  SibSp  Parch     Fare  Cabin  Embarked  Survived\n",
       "0       3    1  22.0      1      0   7.2500      7         2         0\n",
       "1       1    0  38.0      1      0  71.2833      2         0         1\n",
       "2       3    0  26.0      0      0   7.9250      7         2         1\n",
       "3       1    0  35.0      1      0  53.1000      2         2         1\n",
       "4       3    1  35.0      0      0   8.0500      7         2         0"
      ]
     },
     "execution_count": 7,
     "metadata": {},
     "output_type": "execute_result"
    }
   ],
   "source": [
    "df.head()"
   ]
  },
  {
   "cell_type": "code",
   "execution_count": 8,
   "metadata": {},
   "outputs": [
    {
     "data": {
      "text/html": [
       "<div>\n",
       "<style scoped>\n",
       "    .dataframe tbody tr th:only-of-type {\n",
       "        vertical-align: middle;\n",
       "    }\n",
       "\n",
       "    .dataframe tbody tr th {\n",
       "        vertical-align: top;\n",
       "    }\n",
       "\n",
       "    .dataframe thead th {\n",
       "        text-align: right;\n",
       "    }\n",
       "</style>\n",
       "<table border=\"1\" class=\"dataframe\">\n",
       "  <thead>\n",
       "    <tr style=\"text-align: right;\">\n",
       "      <th></th>\n",
       "      <th>Pclass</th>\n",
       "      <th>Sex</th>\n",
       "      <th>Age</th>\n",
       "      <th>SibSp</th>\n",
       "      <th>Parch</th>\n",
       "      <th>Fare</th>\n",
       "      <th>Cabin</th>\n",
       "      <th>Embarked</th>\n",
       "      <th>Survived</th>\n",
       "    </tr>\n",
       "  </thead>\n",
       "  <tbody>\n",
       "    <tr>\n",
       "      <th>count</th>\n",
       "      <td>712.000000</td>\n",
       "      <td>712.000000</td>\n",
       "      <td>712.000000</td>\n",
       "      <td>712.000000</td>\n",
       "      <td>712.000000</td>\n",
       "      <td>712.000000</td>\n",
       "      <td>712.000000</td>\n",
       "      <td>712.000000</td>\n",
       "      <td>712.000000</td>\n",
       "    </tr>\n",
       "    <tr>\n",
       "      <th>mean</th>\n",
       "      <td>2.240169</td>\n",
       "      <td>0.636236</td>\n",
       "      <td>29.642093</td>\n",
       "      <td>0.514045</td>\n",
       "      <td>0.432584</td>\n",
       "      <td>34.567251</td>\n",
       "      <td>5.825843</td>\n",
       "      <td>1.595506</td>\n",
       "      <td>0.404494</td>\n",
       "    </tr>\n",
       "    <tr>\n",
       "      <th>std</th>\n",
       "      <td>0.836854</td>\n",
       "      <td>0.481420</td>\n",
       "      <td>14.492933</td>\n",
       "      <td>0.930692</td>\n",
       "      <td>0.854181</td>\n",
       "      <td>52.938648</td>\n",
       "      <td>2.136155</td>\n",
       "      <td>0.779038</td>\n",
       "      <td>0.491139</td>\n",
       "    </tr>\n",
       "    <tr>\n",
       "      <th>min</th>\n",
       "      <td>1.000000</td>\n",
       "      <td>0.000000</td>\n",
       "      <td>0.420000</td>\n",
       "      <td>0.000000</td>\n",
       "      <td>0.000000</td>\n",
       "      <td>0.000000</td>\n",
       "      <td>0.000000</td>\n",
       "      <td>0.000000</td>\n",
       "      <td>0.000000</td>\n",
       "    </tr>\n",
       "    <tr>\n",
       "      <th>25%</th>\n",
       "      <td>1.000000</td>\n",
       "      <td>0.000000</td>\n",
       "      <td>20.000000</td>\n",
       "      <td>0.000000</td>\n",
       "      <td>0.000000</td>\n",
       "      <td>8.050000</td>\n",
       "      <td>5.750000</td>\n",
       "      <td>2.000000</td>\n",
       "      <td>0.000000</td>\n",
       "    </tr>\n",
       "    <tr>\n",
       "      <th>50%</th>\n",
       "      <td>2.000000</td>\n",
       "      <td>1.000000</td>\n",
       "      <td>28.000000</td>\n",
       "      <td>0.000000</td>\n",
       "      <td>0.000000</td>\n",
       "      <td>15.645850</td>\n",
       "      <td>7.000000</td>\n",
       "      <td>2.000000</td>\n",
       "      <td>0.000000</td>\n",
       "    </tr>\n",
       "    <tr>\n",
       "      <th>75%</th>\n",
       "      <td>3.000000</td>\n",
       "      <td>1.000000</td>\n",
       "      <td>38.000000</td>\n",
       "      <td>1.000000</td>\n",
       "      <td>1.000000</td>\n",
       "      <td>33.000000</td>\n",
       "      <td>7.000000</td>\n",
       "      <td>2.000000</td>\n",
       "      <td>1.000000</td>\n",
       "    </tr>\n",
       "    <tr>\n",
       "      <th>max</th>\n",
       "      <td>3.000000</td>\n",
       "      <td>1.000000</td>\n",
       "      <td>80.000000</td>\n",
       "      <td>5.000000</td>\n",
       "      <td>6.000000</td>\n",
       "      <td>512.329200</td>\n",
       "      <td>8.000000</td>\n",
       "      <td>2.000000</td>\n",
       "      <td>1.000000</td>\n",
       "    </tr>\n",
       "  </tbody>\n",
       "</table>\n",
       "</div>"
      ],
      "text/plain": [
       "           Pclass         Sex         Age       SibSp       Parch        Fare  \\\n",
       "count  712.000000  712.000000  712.000000  712.000000  712.000000  712.000000   \n",
       "mean     2.240169    0.636236   29.642093    0.514045    0.432584   34.567251   \n",
       "std      0.836854    0.481420   14.492933    0.930692    0.854181   52.938648   \n",
       "min      1.000000    0.000000    0.420000    0.000000    0.000000    0.000000   \n",
       "25%      1.000000    0.000000   20.000000    0.000000    0.000000    8.050000   \n",
       "50%      2.000000    1.000000   28.000000    0.000000    0.000000   15.645850   \n",
       "75%      3.000000    1.000000   38.000000    1.000000    1.000000   33.000000   \n",
       "max      3.000000    1.000000   80.000000    5.000000    6.000000  512.329200   \n",
       "\n",
       "            Cabin    Embarked    Survived  \n",
       "count  712.000000  712.000000  712.000000  \n",
       "mean     5.825843    1.595506    0.404494  \n",
       "std      2.136155    0.779038    0.491139  \n",
       "min      0.000000    0.000000    0.000000  \n",
       "25%      5.750000    2.000000    0.000000  \n",
       "50%      7.000000    2.000000    0.000000  \n",
       "75%      7.000000    2.000000    1.000000  \n",
       "max      8.000000    2.000000    1.000000  "
      ]
     },
     "execution_count": 8,
     "metadata": {},
     "output_type": "execute_result"
    }
   ],
   "source": [
    "df.describe()"
   ]
  },
  {
   "cell_type": "code",
   "execution_count": null,
   "metadata": {},
   "outputs": [],
   "source": []
  },
  {
   "cell_type": "code",
   "execution_count": 20,
   "metadata": {},
   "outputs": [],
   "source": [
    "df = df.drop(\"Survived\", axis=1)"
   ]
  },
  {
   "cell_type": "code",
   "execution_count": null,
   "metadata": {
    "scrolled": true
   },
   "outputs": [],
   "source": [
    "df = df.drop(\"Fare\", axis=1)\n"
   ]
  },
  {
   "cell_type": "code",
   "execution_count": 78,
   "metadata": {},
   "outputs": [],
   "source": [
    "def create_dataset_with_full_coverage(df):\n",
    "    creation_data = get_df_values_for_creation(df.to_dict(), 1)\n",
    "    test(creation_data)\n",
    "    product_result = product(*list(creation_data.values()))\n",
    "    res_df = pd.DataFrame(product_result, columns=df.columns)\n",
    "    return res_df"
   ]
  },
  {
   "cell_type": "code",
   "execution_count": 79,
   "metadata": {},
   "outputs": [
    {
     "name": "stdout",
     "output_type": "stream",
     "text": [
      "3\n",
      "6\n",
      "480\n",
      "2880\n",
      "20160\n",
      "60480\n",
      "544320\n",
      "1632960\n"
     ]
    }
   ],
   "source": [
    "res_df = create_dataset_with_full_coverage(df)"
   ]
  },
  {
   "cell_type": "code",
   "execution_count": 74,
   "metadata": {},
   "outputs": [],
   "source": [
    "col_name = \"Age\""
   ]
  },
  {
   "cell_type": "code",
   "execution_count": null,
   "metadata": {},
   "outputs": [],
   "source": [
    "explainer = shap.TreeExplainer(model_xgb)\n",
    "data_copy = res_df.copy()\n",
    "shap_values = explainer(data_copy).values\n",
    "mean_importance = list(np.mean(np.absolute(shap_values), axis=0))\n",
    "max_list = sorted(mean_importance)[-5:]\n",
    "cols = []\n",
    "indexes = []\n",
    "for max_val in max_list:\n",
    "    indexes.append(mean_importance.index(max_val))\n",
    "    cols.append(data.columns[mean_importance.index(max_val)])\n",
    "col_vals = list(set(data[col_name].values))\n",
    "col_vals"
   ]
  },
  {
   "cell_type": "code",
   "execution_count": 80,
   "metadata": {},
   "outputs": [
    {
     "data": {
      "text/plain": [
       "<Axes: title={'center': 'Центрированный график изменения важности переменных'}, xlabel='Age', ylabel='Важность переменных'>"
      ]
     },
     "execution_count": 80,
     "metadata": {},
     "output_type": "execute_result"
    },
    {
     "data": {
      "image/png": "[encoded data removed]",
      "text/plain": [
       "<Figure size 1600x800 with 1 Axes>"
      ]
     },
     "metadata": {},
     "output_type": "display_data"
    }
   ],
   "source": [
    "plot_top5_centered_importance_v2(model_xgb, res_df, \"Age\")"
   ]
  },
  {
   "cell_type": "code",
   "execution_count": 69,
   "metadata": {},
   "outputs": [
    {
     "data": {
      "text/plain": [
       "[0.41616586, 0.6294607, 0.6687761, 0.7147785, 1.5367968]"
      ]
     },
     "execution_count": 69,
     "metadata": {},
     "output_type": "execute_result"
    }
   ],
   "source": [
    "max_list"
   ]
  },
  {
   "cell_type": "code",
   "execution_count": 76,
   "metadata": {},
   "outputs": [],
   "source": [
    "def plot_top5_centered_importance_v2(model, data, col_name, absolute=False):\n",
    "    plot = plt.axes()\n",
    "    plot.figure.set_size_inches(16, 8)\n",
    "\n",
    "    if absolute:\n",
    "        title = \"Центрированный график изменения абсолютной важности переменных\"\n",
    "    else:\n",
    "        title = \"Центрированный график изменения важности переменных\"\n",
    "    plot.set_title(title, fontsize=18)\n",
    "\n",
    "    explainer = shap.TreeExplainer(model)\n",
    "\n",
    "    data_copy = data.copy()\n",
    "    if \"Survived\" in data.columns:\n",
    "        data_copy = data_copy.drop(\"Survived\", axis=1)\n",
    "\n",
    "    shap_values = explainer(data_copy).values\n",
    "\n",
    "    cols = []\n",
    "    indexes = []\n",
    "    mean_importance = list(np.mean(np.absolute(shap_values), axis=0))\n",
    "\n",
    "    max_list = sorted(mean_importance)[-5:]\n",
    "    for max_val in max_list:\n",
    "        indexes.append(mean_importance.index(max_val))\n",
    "        cols.append(data.columns[mean_importance.index(max_val)])\n",
    "\n",
    "    col_vals = list(sorted(set(data[col_name].values)))\n",
    "    res_vals = []\n",
    "\n",
    "    for val in col_vals:\n",
    "        new_col = len(data_copy[col_name]) * [val]\n",
    "        data_copy[col_name] = new_col\n",
    "        shap_values = explainer(data_copy).values\n",
    "        res_vals.append(shap_values)\n",
    "\n",
    "\n",
    "    res_vals = np.array(res_vals)\n",
    "\n",
    "    for i in range(0, len(indexes)):\n",
    "        res = []\n",
    "\n",
    "        for j in range(0, len(res_vals)):\n",
    "            val = res_vals[j, :, indexes[i]]\n",
    "            if absolute:\n",
    "                val = np.absolute(val)\n",
    "            res.append(val.mean())\n",
    "\n",
    "        plot.plot(col_vals, res, color=colors[i], linewidth=4, label=cols[i])\n",
    "\n",
    "    plot.grid()\n",
    "    plot.set_xlabel(col_name, fontsize=16)\n",
    "    plot.set_ylabel(\"Важность переменных\", fontsize=16)\n",
    "    plot.legend()\n",
    "\n",
    "    return plot"
   ]
  },
  {
   "cell_type": "code",
   "execution_count": null,
   "metadata": {},
   "outputs": [],
   "source": []
  },
  {
   "cell_type": "code",
   "execution_count": null,
   "metadata": {},
   "outputs": [],
   "source": []
  },
  {
   "cell_type": "code",
   "execution_count": null,
   "metadata": {},
   "outputs": [],
   "source": []
  },
  {
   "cell_type": "code",
   "execution_count": 57,
   "metadata": {},
   "outputs": [],
   "source": [
    "def get_df_values_for_creation(data, delta=25):\n",
    "    result = {}\n",
    "    for key, data in data.items():\n",
    "        unique_data = set(data.values())\n",
    "        if key == \"Fare\":\n",
    "            result[key] = [10, 250, 500]\n",
    "        elif len(unique_data) <= 10:\n",
    "            result[key] = list(sorted(unique_data))\n",
    "        else:\n",
    "            result[key] = generate_values(min(unique_data), max(unique_data), delta)\n",
    "    return result"
   ]
  },
  {
   "cell_type": "code",
   "execution_count": 8,
   "metadata": {},
   "outputs": [],
   "source": [
    "def generate_values(min_val: float, max_val: float, delta: float) -> list[float]:\n",
    "    values = []\n",
    "    current_val = min_val\n",
    "    while current_val <= max_val:\n",
    "        values.append(current_val)\n",
    "        current_val += delta\n",
    "    return values"
   ]
  },
  {
   "cell_type": "code",
   "execution_count": 45,
   "metadata": {},
   "outputs": [],
   "source": [
    "# Расчёт числа элементов декартового произведения\n",
    "def test(creation_data):\n",
    "    count = 1\n",
    "    for key, values in creation_data.items():\n",
    "        count *= len(values)\n",
    "        print(count)"
   ]
  },
  {
   "cell_type": "code",
   "execution_count": null,
   "metadata": {},
   "outputs": [],
   "source": [
    "plot = plt.axes()\n",
    "\n",
    "res_vals, col_vals = ice_plot_data_y(model, data, col_name)\n",
    "y_label = 'Вероятность удачного исхода'\n",
    "title = f'с-ICE график вероятности удачного исхода при изменении переменной {col_name}'\n",
    "\n",
    "df = pd.DataFrame(np.array(res_vals))\n",
    "df = df.T\n",
    "mean = df.mean()\n",
    "\n",
    "plot.figure.set_size_inches(16, 8)\n",
    "plot.set_title(title, fontsize=18)\n",
    "\n",
    "for i in df.index:\n",
    "    plot.plot(col_vals, df.loc[i], color='black', linewidth=0.1)\n",
    "\n",
    "plot.plot(col_vals, mean, color='lime', linewidth=6)\n",
    "\n",
    "plot.grid()\n",
    "plot.set_xlabel(col_name, fontsize=16)\n",
    "plot.set_ylabel(y_label, fontsize=16)\n"
   ]
  },
  {
   "cell_type": "code",
   "execution_count": null,
   "metadata": {},
   "outputs": [
    {
     "data": {
      "text/plain": [
       "<Axes: title={'center': 'с-ICE график вероятности удачного исхода при изменении переменной Age'}, xlabel='Age', ylabel='Вероятность удачного исхода'>"
      ]
     },
     "execution_count": 87,
     "metadata": {},
     "output_type": "execute_result"
    }
   ],
   "source": [
    "plot_ice_plot(model_xgb, res_df, \"Age\")"
   ]
  },
  {
   "cell_type": "code",
   "execution_count": 85,
   "metadata": {},
   "outputs": [],
   "source": [
    "def ice_plot_data_y(model, data, col_name):\n",
    "    data_copy = data.copy()\n",
    "\n",
    "    col_vals = list(sorted(set(data[col_name].values)))\n",
    "    res_vals = []\n",
    "\n",
    "    for val in col_vals:\n",
    "        new_col = len(data_copy[col_name]) * [val]\n",
    "        data_copy[col_name] = new_col\n",
    "        predict = model.predict_proba(data_copy)[:, 1]\n",
    "        res_vals.append(predict)\n",
    "\n",
    "    return res_vals, col_vals"
   ]
  },
  {
   "cell_type": "code",
   "execution_count": 86,
   "metadata": {},
   "outputs": [],
   "source": [
    "def plot_ice_plot(model, data, col_name, importance=False):\n",
    "    plot = plt.axes()\n",
    "\n",
    "    if importance:\n",
    "        explainer = shap.TreeExplainer(model)\n",
    "        res_vals, col_vals = ice_plot_data_importance(explainer, data, col_name)\n",
    "        y_label = f'Важность переменной {col_name}'\n",
    "        title = f'с-ICE график изменения важности переменной {col_name}'\n",
    "    else:\n",
    "        res_vals, col_vals = ice_plot_data_y(model, data, col_name)\n",
    "        y_label = 'Вероятность удачного исхода'\n",
    "        title = f'с-ICE график вероятности удачного исхода при изменении переменной {col_name}'\n",
    "\n",
    "    df = pd.DataFrame(np.array(res_vals))\n",
    "    df = df.T\n",
    "    mean = df.mean()\n",
    "\n",
    "    plot.figure.set_size_inches(16, 8)\n",
    "    plot.set_title(title, fontsize=18)\n",
    "\n",
    "    for i in df.index:\n",
    "        plot.plot(col_vals, df.loc[i], color='black', linewidth=0.1)\n",
    "\n",
    "    plot.plot(col_vals, mean, color='lime', linewidth=6)\n",
    "\n",
    "    plot.grid()\n",
    "    plot.set_xlabel(col_name, fontsize=16)\n",
    "    plot.set_ylabel(y_label, fontsize=16)\n",
    "\n",
    "    return plot"
   ]
  }
 ],
 "metadata": {
  "kernelspec": {
   "display_name": "Python 3 (ipykernel)",
   "language": "python",
   "name": "python3"
  },
  "language_info": {
   "codemirror_mode": {
    "name": "ipython",
    "version": 3
   },
   "file_extension": ".py",
   "mimetype": "text/x-python",
   "name": "python",
   "nbconvert_exporter": "python",
   "pygments_lexer": "ipython3",
   "version": "3.11.4"
  }
 },
 "nbformat": 4,
 "nbformat_minor": 4
}
